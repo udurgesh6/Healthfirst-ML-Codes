{
  "nbformat": 4,
  "nbformat_minor": 0,
  "metadata": {
    "kernelspec": {
      "display_name": "Python 3",
      "language": "python",
      "name": "python3"
    },
    "language_info": {
      "codemirror_mode": {
        "name": "ipython",
        "version": 3
      },
      "file_extension": ".py",
      "mimetype": "text/x-python",
      "name": "python",
      "nbconvert_exporter": "python",
      "pygments_lexer": "ipython3",
      "version": "3.7.9"
    },
    "colab": {
      "name": "Diabetes Prediction.ipynb",
      "provenance": [],
      "collapsed_sections": []
    }
  },
  "cells": [
    {
      "cell_type": "code",
      "metadata": {
        "execution": {
          "iopub.execute_input": "2020-10-12T14:00:45.009458Z",
          "iopub.status.busy": "2020-10-12T14:00:45.007968Z",
          "iopub.status.idle": "2020-10-12T14:00:46.037702Z",
          "shell.execute_reply": "2020-10-12T14:00:46.038270Z"
        },
        "pycharm": {
          "name": "#%%\n"
        },
        "scrolled": true,
        "colab": {
          "base_uri": "https://localhost:8080/"
        },
        "id": "kWl2CpnUCsS5",
        "outputId": "9c715b54-343e-4a9c-a7ca-25a2e7f881c4"
      },
      "source": [
        "!pip install ibm-watson-machine-learning | tail -n 1\n",
        "!pip install -U autoai-libs | tail -n 1\n",
        "!pip install -U xgboost==0.90 | tail -n 1"
      ],
      "execution_count": 1,
      "outputs": [
        {
          "output_type": "stream",
          "text": [
            "Requirement already satisfied: docutils<0.16,>=0.10 in /usr/local/lib/python3.6/dist-packages (from ibm-cos-sdk-core==2.7.0->ibm-cos-sdk==2.7.*->ibm-watson-machine-learning) (0.15.2)\n",
            "Requirement already satisfied, skipping upgrade: six>=1.5 in /usr/local/lib/python3.6/dist-packages (from python-dateutil>=2.6.1->pandas<1.0.0,>=0.24.2->autoai-libs) (1.15.0)\n",
            "Requirement already satisfied, skipping upgrade: scipy in /usr/local/lib/python3.6/dist-packages (from xgboost==0.90) (1.4.1)\n"
          ],
          "name": "stdout"
        }
      ]
    },
    {
      "cell_type": "code",
      "metadata": {
        "execution": {
          "iopub.execute_input": "2020-10-12T14:00:49.797633Z",
          "iopub.status.busy": "2020-10-12T14:00:49.796778Z",
          "iopub.status.idle": "2020-10-12T14:00:57.182715Z",
          "shell.execute_reply": "2020-10-12T14:00:57.183132Z"
        },
        "pycharm": {
          "is_executing": true
        },
        "id": "WmRBhxjTCsS6"
      },
      "source": [
        "from ibm_watson_machine_learning.helpers import DataConnection, S3Connection, S3Location\n",
        "\n",
        "training_data_reference = [DataConnection(\n",
        "    connection=S3Connection(\n",
        "        api_key='yIFSGj3F7qcScFQqdVDsA0Fr-nzrUcwOyL_Lj5WE-FDs',\n",
        "        auth_endpoint='https://iam.bluemix.net/oidc/token/',\n",
        "        endpoint_url='https://s3.eu-geo.objectstorage.softlayer.net'\n",
        "    ),\n",
        "        location=S3Location(\n",
        "        bucket='diabetesprediction-donotdelete-pr-erhquxz5qwghet',\n",
        "        path='diabetes.csv'\n",
        "    )),\n",
        "]\n",
        "training_result_reference = DataConnection(\n",
        "    connection=S3Connection(\n",
        "        api_key='yIFSGj3F7qcScFQqdVDsA0Fr-nzrUcwOyL_Lj5WE-FDs',\n",
        "        auth_endpoint='https://iam.bluemix.net/oidc/token/',\n",
        "        endpoint_url='https://s3.eu-geo.objectstorage.softlayer.net'\n",
        "    ),\n",
        "    location=S3Location(\n",
        "        bucket='diabetesprediction-donotdelete-pr-erhquxz5qwghet',\n",
        "        path='auto_ml/eaa80418-a9ba-4ba4-8469-029ca938c6df/wml_data/b55442a1-2c2b-4a54-a2d5-4ea66326059c/data/automl',\n",
        "        model_location='auto_ml/eaa80418-a9ba-4ba4-8469-029ca938c6df/wml_data/b55442a1-2c2b-4a54-a2d5-4ea66326059c/data/automl/hpo_c_output/Pipeline1/model.pickle',\n",
        "        training_status='auto_ml/eaa80418-a9ba-4ba4-8469-029ca938c6df/wml_data/b55442a1-2c2b-4a54-a2d5-4ea66326059c/training-status.json'\n",
        "    ))"
      ],
      "execution_count": 4,
      "outputs": []
    },
    {
      "cell_type": "code",
      "metadata": {
        "execution": {
          "iopub.execute_input": "2020-10-12T14:00:57.187305Z",
          "iopub.status.busy": "2020-10-12T14:00:57.186602Z",
          "iopub.status.idle": "2020-10-12T14:00:57.188392Z",
          "shell.execute_reply": "2020-10-12T14:00:57.188878Z"
        },
        "pycharm": {
          "name": "#%%\n"
        },
        "id": "LVh7qoGiCsS6"
      },
      "source": [
        "experiment_metadata = dict(\n",
        "   prediction_type='classification',\n",
        "   prediction_column='Outcome',\n",
        "   test_size=0.1,\n",
        "   scoring='accuracy',\n",
        "   project_id='fe7c7525-883f-49c5-8034-4476e03e0641',\n",
        "   space_id='None',\n",
        "   deployment_url='https://eu-gb.ml.cloud.ibm.com',\n",
        "   csv_separator=',',\n",
        "   random_state=33,\n",
        "   max_number_of_estimators=2,\n",
        "   daub_include_only_estimators=None,\n",
        "   training_data_reference=training_data_reference,\n",
        "   training_result_reference=training_result_reference,\n",
        "   positive_label=1\n",
        ")"
      ],
      "execution_count": 5,
      "outputs": []
    },
    {
      "cell_type": "code",
      "metadata": {
        "execution": {
          "iopub.execute_input": "2020-10-12T14:01:16.076169Z",
          "iopub.status.busy": "2020-10-12T14:01:16.075589Z",
          "iopub.status.idle": "2020-10-12T14:01:19.190233Z",
          "shell.execute_reply": "2020-10-12T14:01:19.190807Z"
        },
        "pycharm": {
          "is_executing": true,
          "name": "#%%\n"
        },
        "id": "CEi6YYVjCsS7"
      },
      "source": [
        "df = training_data_reference[0].read(csv_separator=experiment_metadata['csv_separator'])\n",
        "df.dropna('rows', how='any', subset=[experiment_metadata['prediction_column']], inplace=True)"
      ],
      "execution_count": 6,
      "outputs": []
    },
    {
      "cell_type": "markdown",
      "metadata": {
        "id": "omPbNH7JCsS7"
      },
      "source": [
        "<a id=\"split\"></a>\n",
        "##  Train and test data split"
      ]
    },
    {
      "cell_type": "code",
      "metadata": {
        "pycharm": {
          "is_executing": true
        },
        "id": "gDJS8Al9CsS8"
      },
      "source": [
        "from sklearn.model_selection import train_test_split\n",
        "\n",
        "df.drop_duplicates(inplace=True)\n",
        "X = df.drop([experiment_metadata['prediction_column']], axis=1).values\n",
        "y = df[experiment_metadata['prediction_column']].values\n",
        "\n",
        "train_X, test_X, train_y, test_y = train_test_split(X, y, test_size=experiment_metadata['test_size'],\n",
        "                                                    stratify=y, random_state=experiment_metadata['random_state'])"
      ],
      "execution_count": 7,
      "outputs": []
    },
    {
      "cell_type": "markdown",
      "metadata": {
        "id": "P0fjy-qtCsS8"
      },
      "source": [
        "Import statements."
      ]
    },
    {
      "cell_type": "code",
      "metadata": {
        "pycharm": {
          "is_executing": true,
          "name": "#%%\n"
        },
        "id": "fhcJVa44CsS8"
      },
      "source": [
        "from autoai_libs.transformers.exportable import NumpyColumnSelector\n",
        "from autoai_libs.transformers.exportable import CompressStrings\n",
        "from autoai_libs.transformers.exportable import NumpyReplaceMissingValues\n",
        "from autoai_libs.transformers.exportable import NumpyReplaceUnknownValues\n",
        "from autoai_libs.transformers.exportable import boolean2float\n",
        "from autoai_libs.transformers.exportable import CatImputer\n",
        "from autoai_libs.transformers.exportable import CatEncoder\n",
        "import numpy as np\n",
        "from autoai_libs.transformers.exportable import float32_transform\n",
        "from sklearn.pipeline import make_pipeline\n",
        "from autoai_libs.transformers.exportable import FloatStr2Float\n",
        "from autoai_libs.transformers.exportable import NumImputer\n",
        "from autoai_libs.transformers.exportable import OptStandardScaler\n",
        "from sklearn.pipeline import make_union\n",
        "from autoai_libs.transformers.exportable import NumpyPermuteArray\n",
        "from autoai_libs.cognito.transforms.transform_utils import TNoOp\n",
        "from xgboost import XGBClassifier"
      ],
      "execution_count": 8,
      "outputs": []
    },
    {
      "cell_type": "markdown",
      "metadata": {
        "id": "QxHtIqIwCsS8"
      },
      "source": [
        "#### Pre-processing & Estimator."
      ]
    },
    {
      "cell_type": "code",
      "metadata": {
        "pycharm": {
          "is_executing": true,
          "name": "#%%\n"
        },
        "id": "FubhzM89CsS9"
      },
      "source": [
        "numpy_column_selector_0 = NumpyColumnSelector(columns=[0, 2, 3, 7])\n",
        "compress_strings = CompressStrings(\n",
        "    compress_type=\"hash\",\n",
        "    dtypes_list=[\n",
        "        \"float_int_num\",\n",
        "        \"float_int_num\",\n",
        "        \"float_int_num\",\n",
        "        \"float_int_num\",\n",
        "    ],\n",
        "    missing_values_reference_list=[\"\", \"-\", \"?\", float(\"nan\")],\n",
        "    misslist_list=[[], [], [], []],\n",
        ")\n",
        "numpy_replace_missing_values_0 = NumpyReplaceMissingValues(\n",
        "    missing_values=[], filling_values=100001\n",
        ")\n",
        "numpy_replace_unknown_values = NumpyReplaceUnknownValues(\n",
        "    filling_values=100001,\n",
        "    filling_values_list=[100001, 100001, 100001, 100001],\n",
        "    known_values_list=[\n",
        "        [\n",
        "            0.0,\n",
        "            1.0,\n",
        "            2.0,\n",
        "            3.0,\n",
        "            4.0,\n",
        "            5.0,\n",
        "            6.0,\n",
        "            7.0,\n",
        "            8.0,\n",
        "            9.0,\n",
        "            10.0,\n",
        "            11.0,\n",
        "            12.0,\n",
        "            13.0,\n",
        "            14.0,\n",
        "            15.0,\n",
        "            17.0,\n",
        "        ],\n",
        "        [\n",
        "            0.0,\n",
        "            24.0,\n",
        "            30.0,\n",
        "            38.0,\n",
        "            40.0,\n",
        "            44.0,\n",
        "            46.0,\n",
        "            48.0,\n",
        "            50.0,\n",
        "            52.0,\n",
        "            54.0,\n",
        "            55.0,\n",
        "            56.0,\n",
        "            58.0,\n",
        "            60.0,\n",
        "            61.0,\n",
        "            62.0,\n",
        "            64.0,\n",
        "            65.0,\n",
        "            66.0,\n",
        "            68.0,\n",
        "            70.0,\n",
        "            72.0,\n",
        "            74.0,\n",
        "            75.0,\n",
        "            76.0,\n",
        "            78.0,\n",
        "            80.0,\n",
        "            82.0,\n",
        "            84.0,\n",
        "            85.0,\n",
        "            86.0,\n",
        "            88.0,\n",
        "            90.0,\n",
        "            92.0,\n",
        "            94.0,\n",
        "            95.0,\n",
        "            96.0,\n",
        "            98.0,\n",
        "            100.0,\n",
        "            104.0,\n",
        "            106.0,\n",
        "            108.0,\n",
        "            110.0,\n",
        "            114.0,\n",
        "            122.0,\n",
        "        ],\n",
        "        [\n",
        "            0.0,\n",
        "            7.0,\n",
        "            8.0,\n",
        "            10.0,\n",
        "            11.0,\n",
        "            12.0,\n",
        "            13.0,\n",
        "            14.0,\n",
        "            15.0,\n",
        "            16.0,\n",
        "            17.0,\n",
        "            18.0,\n",
        "            19.0,\n",
        "            20.0,\n",
        "            21.0,\n",
        "            22.0,\n",
        "            23.0,\n",
        "            24.0,\n",
        "            25.0,\n",
        "            26.0,\n",
        "            27.0,\n",
        "            28.0,\n",
        "            29.0,\n",
        "            30.0,\n",
        "            31.0,\n",
        "            32.0,\n",
        "            33.0,\n",
        "            34.0,\n",
        "            35.0,\n",
        "            36.0,\n",
        "            37.0,\n",
        "            38.0,\n",
        "            39.0,\n",
        "            40.0,\n",
        "            41.0,\n",
        "            42.0,\n",
        "            43.0,\n",
        "            44.0,\n",
        "            45.0,\n",
        "            46.0,\n",
        "            47.0,\n",
        "            48.0,\n",
        "            49.0,\n",
        "            50.0,\n",
        "            52.0,\n",
        "            54.0,\n",
        "            56.0,\n",
        "            59.0,\n",
        "            60.0,\n",
        "            63.0,\n",
        "            99.0,\n",
        "            110.0,\n",
        "        ],\n",
        "        [\n",
        "            21.0,\n",
        "            22.0,\n",
        "            23.0,\n",
        "            24.0,\n",
        "            25.0,\n",
        "            26.0,\n",
        "            27.0,\n",
        "            28.0,\n",
        "            29.0,\n",
        "            30.0,\n",
        "            31.0,\n",
        "            32.0,\n",
        "            33.0,\n",
        "            34.0,\n",
        "            35.0,\n",
        "            36.0,\n",
        "            37.0,\n",
        "            38.0,\n",
        "            39.0,\n",
        "            40.0,\n",
        "            41.0,\n",
        "            42.0,\n",
        "            43.0,\n",
        "            44.0,\n",
        "            45.0,\n",
        "            46.0,\n",
        "            47.0,\n",
        "            48.0,\n",
        "            49.0,\n",
        "            50.0,\n",
        "            51.0,\n",
        "            52.0,\n",
        "            53.0,\n",
        "            54.0,\n",
        "            55.0,\n",
        "            56.0,\n",
        "            57.0,\n",
        "            58.0,\n",
        "            59.0,\n",
        "            60.0,\n",
        "            61.0,\n",
        "            62.0,\n",
        "            63.0,\n",
        "            65.0,\n",
        "            66.0,\n",
        "            67.0,\n",
        "            68.0,\n",
        "            69.0,\n",
        "            70.0,\n",
        "            72.0,\n",
        "            81.0,\n",
        "        ],\n",
        "    ],\n",
        "    missing_values_reference_list=[\"\", \"-\", \"?\", float(\"nan\")],\n",
        ")\n",
        "cat_imputer = CatImputer(\n",
        "    strategy=\"most_frequent\",\n",
        "    missing_values=100001,\n",
        "    sklearn_version_family=\"23\",\n",
        ")\n",
        "cat_encoder = CatEncoder(\n",
        "    encoding=\"ordinal\",\n",
        "    categories=\"auto\",\n",
        "    dtype=np.float64,\n",
        "    handle_unknown=\"error\",\n",
        "    sklearn_version_family=\"23\",\n",
        ")\n",
        "pipeline_0 = make_pipeline(\n",
        "    numpy_column_selector_0,\n",
        "    compress_strings,\n",
        "    numpy_replace_missing_values_0,\n",
        "    numpy_replace_unknown_values,\n",
        "    boolean2float(),\n",
        "    cat_imputer,\n",
        "    cat_encoder,\n",
        "    float32_transform(),\n",
        ")\n",
        "numpy_column_selector_1 = NumpyColumnSelector(columns=[1, 4, 5, 6])\n",
        "float_str2_float = FloatStr2Float(\n",
        "    dtypes_list=[\"float_int_num\", \"float_int_num\", \"float_num\", \"float_num\"],\n",
        "    missing_values_reference_list=[],\n",
        ")\n",
        "numpy_replace_missing_values_1 = NumpyReplaceMissingValues(\n",
        "    missing_values=[], filling_values=float(\"nan\")\n",
        ")\n",
        "num_imputer = NumImputer(strategy=\"median\", missing_values=float(\"nan\"))\n",
        "opt_standard_scaler = OptStandardScaler(\n",
        "    num_scaler_copy=None,\n",
        "    num_scaler_with_mean=None,\n",
        "    num_scaler_with_std=None,\n",
        "    use_scaler_flag=False,\n",
        ")\n",
        "pipeline_1 = make_pipeline(\n",
        "    numpy_column_selector_1,\n",
        "    float_str2_float,\n",
        "    numpy_replace_missing_values_1,\n",
        "    num_imputer,\n",
        "    opt_standard_scaler,\n",
        "    float32_transform(),\n",
        ")\n",
        "union = make_union(pipeline_0, pipeline_1)\n",
        "numpy_permute_array = NumpyPermuteArray(\n",
        "    axis=0, permutation_indices=[0, 2, 3, 7, 1, 4, 5, 6]\n",
        ")\n",
        "t_no_op = TNoOp(\n",
        "    fun=None, name=\"no_action\", datatypes=\"x\", feat_constraints=[]\n",
        ")\n",
        "xgb_classifier = XGBClassifier(\n",
        "    gamma=1.0802271427722739e-06,\n",
        "    learning_rate=0.02000116894105963,\n",
        "    max_depth=1,\n",
        "    min_child_weight=2,\n",
        "    n_estimators=197,\n",
        "    random_state=33,\n",
        "    reg_alpha=0.9999960244176358,\n",
        "    reg_lambda=0.9999995122571778,\n",
        "    scale_pos_weight=1.3930942044422527,\n",
        "    silent=True,\n",
        "    subsample=0.9999997991531601,\n",
        "    verbosity=0,\n",
        "    tree_method=\"hist\",\n",
        ")\n"
      ],
      "execution_count": 9,
      "outputs": []
    },
    {
      "cell_type": "code",
      "metadata": {
        "pycharm": {
          "is_executing": true,
          "name": "#%%\n"
        },
        "id": "XyRHMF8gCsTA"
      },
      "source": [
        "pipeline = make_pipeline(union, numpy_permute_array, t_no_op, xgb_classifier)"
      ],
      "execution_count": 10,
      "outputs": []
    },
    {
      "cell_type": "code",
      "metadata": {
        "pycharm": {
          "is_executing": true
        },
        "id": "IGvByxXwCsTB"
      },
      "source": [
        "from sklearn.metrics import get_scorer\n",
        "\n",
        "scorer = get_scorer(experiment_metadata['scoring'])"
      ],
      "execution_count": 11,
      "outputs": []
    },
    {
      "cell_type": "code",
      "metadata": {
        "execution": {
          "iopub.execute_input": "2020-10-12T14:01:19.291734Z",
          "iopub.status.busy": "2020-10-12T14:01:19.244735Z",
          "iopub.status.idle": "2020-10-12T14:01:19.338461Z",
          "shell.execute_reply": "2020-10-12T14:01:19.338958Z"
        },
        "pycharm": {
          "is_executing": true,
          "name": "#%%\n"
        },
        "scrolled": true,
        "colab": {
          "base_uri": "https://localhost:8080/"
        },
        "id": "Qi29EeuQCsTB",
        "outputId": "69f53fe8-2c7e-420f-9751-52238976c725"
      },
      "source": [
        "pipeline.fit(train_X,train_y)"
      ],
      "execution_count": 12,
      "outputs": [
        {
          "output_type": "execute_result",
          "data": {
            "text/plain": [
              "Pipeline(memory=None,\n",
              "         steps=[('featureunion',\n",
              "                 FeatureUnion(n_jobs=None,\n",
              "                              transformer_list=[('pipeline-1',\n",
              "                                                 Pipeline(memory=None,\n",
              "                                                          steps=[('numpycolumnselector',\n",
              "                                                                  NumpyColumnSelector(columns=[0,\n",
              "                                                                                               2,\n",
              "                                                                                               3,\n",
              "                                                                                               7])),\n",
              "                                                                 ('compressstrings',\n",
              "                                                                  CompressStrings(activate_flag=True,\n",
              "                                                                                  compress_type='hash',\n",
              "                                                                                  dtypes_list=['float_int_num',\n",
              "                                                                                               'float_int_num',\n",
              "                                                                                               'float_int_num',\n",
              "                                                                                               'float_int_num'],\n",
              "                                                                                  missi...\n",
              "                               learning_rate=0.02000116894105963,\n",
              "                               max_delta_step=0, max_depth=1,\n",
              "                               min_child_weight=2, missing=None,\n",
              "                               n_estimators=197, n_jobs=1, nthread=None,\n",
              "                               objective='binary:logistic', random_state=33,\n",
              "                               reg_alpha=0.9999960244176358,\n",
              "                               reg_lambda=0.9999995122571778,\n",
              "                               scale_pos_weight=1.3930942044422527, seed=None,\n",
              "                               silent=True, subsample=0.9999997991531601,\n",
              "                               tree_method='hist', verbosity=0))],\n",
              "         verbose=False)"
            ]
          },
          "metadata": {
            "tags": []
          },
          "execution_count": 12
        }
      ]
    },
    {
      "cell_type": "code",
      "metadata": {
        "execution": {
          "iopub.execute_input": "2020-10-12T14:02:03.910267Z",
          "iopub.status.busy": "2020-10-12T14:02:03.909710Z",
          "iopub.status.idle": "2020-10-12T14:02:03.914154Z",
          "shell.execute_reply": "2020-10-12T14:02:03.914727Z"
        },
        "pycharm": {
          "is_executing": true,
          "name": "#%%\n"
        },
        "colab": {
          "base_uri": "https://localhost:8080/"
        },
        "id": "QwJX3-PaCsTC",
        "outputId": "f4c9c27f-8ab7-4266-ab40-0990cf5e6d57"
      },
      "source": [
        "score = scorer(pipeline, test_X, test_y)\n",
        "print(score)"
      ],
      "execution_count": 13,
      "outputs": [
        {
          "output_type": "stream",
          "text": [
            "0.7866666666666666\n"
          ],
          "name": "stdout"
        }
      ]
    }
  ]
}